{
 "cells": [
  {
   "cell_type": "code",
   "execution_count": 1,
   "id": "91549665-bb8d-4508-9db6-2ea711c2bc09",
   "metadata": {},
   "outputs": [],
   "source": [
    "import pandas as pd\n",
    "import numpy as np\n",
    "import matplotlib.pyplot as plt\n",
    "import seaborn as sns "
   ]
  },
  {
   "cell_type": "code",
   "execution_count": 7,
   "id": "1eb3f7a3-ff03-4c5e-8f54-9135a9318a7d",
   "metadata": {},
   "outputs": [
    {
     "data": {
      "text/html": [
       "<div>\n",
       "<style scoped>\n",
       "    .dataframe tbody tr th:only-of-type {\n",
       "        vertical-align: middle;\n",
       "    }\n",
       "\n",
       "    .dataframe tbody tr th {\n",
       "        vertical-align: top;\n",
       "    }\n",
       "\n",
       "    .dataframe thead th {\n",
       "        text-align: right;\n",
       "    }\n",
       "</style>\n",
       "<table border=\"1\" class=\"dataframe\">\n",
       "  <thead>\n",
       "    <tr style=\"text-align: right;\">\n",
       "      <th></th>\n",
       "      <th>Attrition</th>\n",
       "      <th>Business Travel</th>\n",
       "      <th>CF_age band</th>\n",
       "      <th>CF_attrition label</th>\n",
       "      <th>Department</th>\n",
       "      <th>Education Field</th>\n",
       "      <th>emp no</th>\n",
       "      <th>Employee Number</th>\n",
       "      <th>Gender</th>\n",
       "      <th>Job Role</th>\n",
       "      <th>...</th>\n",
       "      <th>Performance Rating</th>\n",
       "      <th>Relationship Satisfaction</th>\n",
       "      <th>Standard Hours</th>\n",
       "      <th>Stock Option Level</th>\n",
       "      <th>Total Working Years</th>\n",
       "      <th>Work Life Balance</th>\n",
       "      <th>Years At Company</th>\n",
       "      <th>Years In Current Role</th>\n",
       "      <th>Years Since Last Promotion</th>\n",
       "      <th>Years With Curr Manager</th>\n",
       "    </tr>\n",
       "  </thead>\n",
       "  <tbody>\n",
       "    <tr>\n",
       "      <th>0</th>\n",
       "      <td>Yes</td>\n",
       "      <td>Travel_Rarely</td>\n",
       "      <td>35 - 44</td>\n",
       "      <td>Ex-Employees</td>\n",
       "      <td>Sales</td>\n",
       "      <td>Life Sciences</td>\n",
       "      <td>STAFF-1</td>\n",
       "      <td>1</td>\n",
       "      <td>Female</td>\n",
       "      <td>Sales Executive</td>\n",
       "      <td>...</td>\n",
       "      <td>3</td>\n",
       "      <td>1</td>\n",
       "      <td>80</td>\n",
       "      <td>0</td>\n",
       "      <td>8</td>\n",
       "      <td>1</td>\n",
       "      <td>6</td>\n",
       "      <td>4</td>\n",
       "      <td>0</td>\n",
       "      <td>5</td>\n",
       "    </tr>\n",
       "    <tr>\n",
       "      <th>1</th>\n",
       "      <td>No</td>\n",
       "      <td>Travel_Frequently</td>\n",
       "      <td>45 - 54</td>\n",
       "      <td>Current Employees</td>\n",
       "      <td>R&amp;D</td>\n",
       "      <td>Life Sciences</td>\n",
       "      <td>STAFF-2</td>\n",
       "      <td>2</td>\n",
       "      <td>Male</td>\n",
       "      <td>Research Scientist</td>\n",
       "      <td>...</td>\n",
       "      <td>4</td>\n",
       "      <td>4</td>\n",
       "      <td>80</td>\n",
       "      <td>1</td>\n",
       "      <td>10</td>\n",
       "      <td>3</td>\n",
       "      <td>10</td>\n",
       "      <td>7</td>\n",
       "      <td>1</td>\n",
       "      <td>7</td>\n",
       "    </tr>\n",
       "    <tr>\n",
       "      <th>2</th>\n",
       "      <td>Yes</td>\n",
       "      <td>Travel_Rarely</td>\n",
       "      <td>35 - 44</td>\n",
       "      <td>Ex-Employees</td>\n",
       "      <td>R&amp;D</td>\n",
       "      <td>Other</td>\n",
       "      <td>STAFF-4</td>\n",
       "      <td>4</td>\n",
       "      <td>Male</td>\n",
       "      <td>Laboratory Technician</td>\n",
       "      <td>...</td>\n",
       "      <td>3</td>\n",
       "      <td>2</td>\n",
       "      <td>80</td>\n",
       "      <td>0</td>\n",
       "      <td>7</td>\n",
       "      <td>3</td>\n",
       "      <td>0</td>\n",
       "      <td>0</td>\n",
       "      <td>0</td>\n",
       "      <td>0</td>\n",
       "    </tr>\n",
       "    <tr>\n",
       "      <th>3</th>\n",
       "      <td>No</td>\n",
       "      <td>Travel_Frequently</td>\n",
       "      <td>25 - 34</td>\n",
       "      <td>Current Employees</td>\n",
       "      <td>R&amp;D</td>\n",
       "      <td>Life Sciences</td>\n",
       "      <td>STAFF-5</td>\n",
       "      <td>5</td>\n",
       "      <td>Female</td>\n",
       "      <td>Research Scientist</td>\n",
       "      <td>...</td>\n",
       "      <td>3</td>\n",
       "      <td>3</td>\n",
       "      <td>80</td>\n",
       "      <td>0</td>\n",
       "      <td>8</td>\n",
       "      <td>3</td>\n",
       "      <td>8</td>\n",
       "      <td>7</td>\n",
       "      <td>3</td>\n",
       "      <td>0</td>\n",
       "    </tr>\n",
       "    <tr>\n",
       "      <th>4</th>\n",
       "      <td>No</td>\n",
       "      <td>Travel_Rarely</td>\n",
       "      <td>25 - 34</td>\n",
       "      <td>Current Employees</td>\n",
       "      <td>R&amp;D</td>\n",
       "      <td>Medical</td>\n",
       "      <td>STAFF-7</td>\n",
       "      <td>7</td>\n",
       "      <td>Male</td>\n",
       "      <td>Laboratory Technician</td>\n",
       "      <td>...</td>\n",
       "      <td>3</td>\n",
       "      <td>4</td>\n",
       "      <td>80</td>\n",
       "      <td>1</td>\n",
       "      <td>6</td>\n",
       "      <td>3</td>\n",
       "      <td>2</td>\n",
       "      <td>2</td>\n",
       "      <td>2</td>\n",
       "      <td>2</td>\n",
       "    </tr>\n",
       "  </tbody>\n",
       "</table>\n",
       "<p>5 rows × 44 columns</p>\n",
       "</div>"
      ],
      "text/plain": [
       "  Attrition    Business Travel CF_age band CF_attrition label Department  \\\n",
       "0       Yes      Travel_Rarely     35 - 44       Ex-Employees      Sales   \n",
       "1        No  Travel_Frequently     45 - 54  Current Employees        R&D   \n",
       "2       Yes      Travel_Rarely     35 - 44       Ex-Employees        R&D   \n",
       "3        No  Travel_Frequently     25 - 34  Current Employees        R&D   \n",
       "4        No      Travel_Rarely     25 - 34  Current Employees        R&D   \n",
       "\n",
       "  Education Field   emp no  Employee Number  Gender               Job Role  \\\n",
       "0   Life Sciences  STAFF-1                1  Female        Sales Executive   \n",
       "1   Life Sciences  STAFF-2                2    Male     Research Scientist   \n",
       "2           Other  STAFF-4                4    Male  Laboratory Technician   \n",
       "3   Life Sciences  STAFF-5                5  Female     Research Scientist   \n",
       "4         Medical  STAFF-7                7    Male  Laboratory Technician   \n",
       "\n",
       "   ... Performance Rating Relationship Satisfaction Standard Hours  \\\n",
       "0  ...                  3                         1             80   \n",
       "1  ...                  4                         4             80   \n",
       "2  ...                  3                         2             80   \n",
       "3  ...                  3                         3             80   \n",
       "4  ...                  3                         4             80   \n",
       "\n",
       "   Stock Option Level  Total Working Years  Work Life Balance  \\\n",
       "0                   0                    8                  1   \n",
       "1                   1                   10                  3   \n",
       "2                   0                    7                  3   \n",
       "3                   0                    8                  3   \n",
       "4                   1                    6                  3   \n",
       "\n",
       "   Years At Company  Years In Current Role  Years Since Last Promotion  \\\n",
       "0                 6                      4                           0   \n",
       "1                10                      7                           1   \n",
       "2                 0                      0                           0   \n",
       "3                 8                      7                           3   \n",
       "4                 2                      2                           2   \n",
       "\n",
       "   Years With Curr Manager  \n",
       "0                        5  \n",
       "1                        7  \n",
       "2                        0  \n",
       "3                        0  \n",
       "4                        2  \n",
       "\n",
       "[5 rows x 44 columns]"
      ]
     },
     "execution_count": 7,
     "metadata": {},
     "output_type": "execute_result"
    }
   ],
   "source": [
    "df=pd.read_excel('HR_Dataset.xlsx')\n",
    "df.head()"
   ]
  },
  {
   "cell_type": "code",
   "execution_count": 13,
   "id": "95c9006f-84d1-4ed5-a2a8-1f7fef8875c0",
   "metadata": {},
   "outputs": [
    {
     "data": {
      "text/plain": [
       "Attrition                        0\n",
       "Business Travel                  0\n",
       "CF_age band                      0\n",
       "CF_attrition label               0\n",
       "Department                       0\n",
       "Education Field                  0\n",
       "emp no                           0\n",
       "Employee Number                  0\n",
       "Gender                           0\n",
       "Job Role                         0\n",
       "Marital Status                   0\n",
       "Over Time                        0\n",
       "Over18                           0\n",
       "Training Times Last Year         0\n",
       "-2                               0\n",
       "0                                0\n",
       "Age                              0\n",
       "CF_attrition count               0\n",
       "CF_attrition counts           1233\n",
       "CF_attrition rate                0\n",
       "CF_current Employee              0\n",
       "Daily Rate                       0\n",
       "Distance From Home               0\n",
       "Education                        0\n",
       "Employee Count                   0\n",
       "Environment Satisfaction         0\n",
       "Hourly Rate                      0\n",
       "Job Involvement                  0\n",
       "Job Level                        0\n",
       "Job Satisfaction                 0\n",
       "Monthly Income                   0\n",
       "Monthly Rate                     0\n",
       "Num Companies Worked             0\n",
       "Percent Salary Hike              0\n",
       "Performance Rating               0\n",
       "Relationship Satisfaction        0\n",
       "Standard Hours                   0\n",
       "Stock Option Level               0\n",
       "Total Working Years              0\n",
       "Work Life Balance                0\n",
       "Years At Company                 0\n",
       "Years In Current Role            0\n",
       "Years Since Last Promotion       0\n",
       "Years With Curr Manager          0\n",
       "dtype: int64"
      ]
     },
     "execution_count": 13,
     "metadata": {},
     "output_type": "execute_result"
    }
   ],
   "source": [
    "df.isnull().sum()"
   ]
  },
  {
   "cell_type": "code",
   "execution_count": 15,
   "id": "f35b1adf-be95-43d0-8888-e35af2fa1b85",
   "metadata": {},
   "outputs": [
    {
     "name": "stdout",
     "output_type": "stream",
     "text": [
      "<class 'pandas.core.frame.DataFrame'>\n",
      "RangeIndex: 1470 entries, 0 to 1469\n",
      "Data columns (total 44 columns):\n",
      " #   Column                      Non-Null Count  Dtype  \n",
      "---  ------                      --------------  -----  \n",
      " 0   Attrition                   1470 non-null   object \n",
      " 1   Business Travel             1470 non-null   object \n",
      " 2   CF_age band                 1470 non-null   object \n",
      " 3   CF_attrition label          1470 non-null   object \n",
      " 4   Department                  1470 non-null   object \n",
      " 5   Education Field             1470 non-null   object \n",
      " 6   emp no                      1470 non-null   object \n",
      " 7   Employee Number             1470 non-null   int64  \n",
      " 8   Gender                      1470 non-null   object \n",
      " 9   Job Role                    1470 non-null   object \n",
      " 10  Marital Status              1470 non-null   object \n",
      " 11  Over Time                   1470 non-null   object \n",
      " 12  Over18                      1470 non-null   object \n",
      " 13  Training Times Last Year    1470 non-null   int64  \n",
      " 14  -2                          1470 non-null   int64  \n",
      " 15  0                           1470 non-null   int64  \n",
      " 16  Age                         1470 non-null   int64  \n",
      " 17  CF_attrition count          1470 non-null   int64  \n",
      " 18  CF_attrition counts         237 non-null    float64\n",
      " 19  CF_attrition rate           1470 non-null   int64  \n",
      " 20  CF_current Employee         1470 non-null   int64  \n",
      " 21  Daily Rate                  1470 non-null   int64  \n",
      " 22  Distance From Home          1470 non-null   int64  \n",
      " 23  Education                   1470 non-null   object \n",
      " 24  Employee Count              1470 non-null   int64  \n",
      " 25  Environment Satisfaction    1470 non-null   int64  \n",
      " 26  Hourly Rate                 1470 non-null   int64  \n",
      " 27  Job Involvement             1470 non-null   int64  \n",
      " 28  Job Level                   1470 non-null   int64  \n",
      " 29  Job Satisfaction            1470 non-null   int64  \n",
      " 30  Monthly Income              1470 non-null   int64  \n",
      " 31  Monthly Rate                1470 non-null   int64  \n",
      " 32  Num Companies Worked        1470 non-null   int64  \n",
      " 33  Percent Salary Hike         1470 non-null   int64  \n",
      " 34  Performance Rating          1470 non-null   int64  \n",
      " 35  Relationship Satisfaction   1470 non-null   int64  \n",
      " 36  Standard Hours              1470 non-null   int64  \n",
      " 37  Stock Option Level          1470 non-null   int64  \n",
      " 38  Total Working Years         1470 non-null   int64  \n",
      " 39  Work Life Balance           1470 non-null   int64  \n",
      " 40  Years At Company            1470 non-null   int64  \n",
      " 41  Years In Current Role       1470 non-null   int64  \n",
      " 42  Years Since Last Promotion  1470 non-null   int64  \n",
      " 43  Years With Curr Manager     1470 non-null   int64  \n",
      "dtypes: float64(1), int64(30), object(13)\n",
      "memory usage: 505.4+ KB\n"
     ]
    }
   ],
   "source": [
    "df.info()"
   ]
  },
  {
   "cell_type": "code",
   "execution_count": 21,
   "id": "f0642307-ec44-405e-8b9c-9a14969f0c78",
   "metadata": {},
   "outputs": [
    {
     "data": {
      "text/plain": [
       "0"
      ]
     },
     "execution_count": 21,
     "metadata": {},
     "output_type": "execute_result"
    }
   ],
   "source": [
    "df.duplicated().sum()"
   ]
  },
  {
   "cell_type": "code",
   "execution_count": 25,
   "id": "87388005-e860-4277-bd0d-25bfa29d3688",
   "metadata": {},
   "outputs": [
    {
     "data": {
      "text/plain": [
       "(1470, 44)"
      ]
     },
     "execution_count": 25,
     "metadata": {},
     "output_type": "execute_result"
    }
   ],
   "source": [
    "df.shape"
   ]
  },
  {
   "cell_type": "code",
   "execution_count": 31,
   "id": "2e368cc1-4959-4dcb-9b7f-321ba4ce6b74",
   "metadata": {},
   "outputs": [
    {
     "data": {
      "text/html": [
       "<div>\n",
       "<style scoped>\n",
       "    .dataframe tbody tr th:only-of-type {\n",
       "        vertical-align: middle;\n",
       "    }\n",
       "\n",
       "    .dataframe tbody tr th {\n",
       "        vertical-align: top;\n",
       "    }\n",
       "\n",
       "    .dataframe thead th {\n",
       "        text-align: right;\n",
       "    }\n",
       "</style>\n",
       "<table border=\"1\" class=\"dataframe\">\n",
       "  <thead>\n",
       "    <tr style=\"text-align: right;\">\n",
       "      <th></th>\n",
       "      <th>Employee Number</th>\n",
       "      <th>Training Times Last Year</th>\n",
       "      <th>-2</th>\n",
       "      <th>0</th>\n",
       "      <th>Age</th>\n",
       "      <th>CF_attrition count</th>\n",
       "      <th>CF_attrition counts</th>\n",
       "      <th>CF_attrition rate</th>\n",
       "      <th>CF_current Employee</th>\n",
       "      <th>Daily Rate</th>\n",
       "      <th>...</th>\n",
       "      <th>Performance Rating</th>\n",
       "      <th>Relationship Satisfaction</th>\n",
       "      <th>Standard Hours</th>\n",
       "      <th>Stock Option Level</th>\n",
       "      <th>Total Working Years</th>\n",
       "      <th>Work Life Balance</th>\n",
       "      <th>Years At Company</th>\n",
       "      <th>Years In Current Role</th>\n",
       "      <th>Years Since Last Promotion</th>\n",
       "      <th>Years With Curr Manager</th>\n",
       "    </tr>\n",
       "  </thead>\n",
       "  <tbody>\n",
       "    <tr>\n",
       "      <th>count</th>\n",
       "      <td>1470.000000</td>\n",
       "      <td>1470.000000</td>\n",
       "      <td>1470.0</td>\n",
       "      <td>1470.0</td>\n",
       "      <td>1470.000000</td>\n",
       "      <td>1470.000000</td>\n",
       "      <td>237.0</td>\n",
       "      <td>1470.000000</td>\n",
       "      <td>1470.000000</td>\n",
       "      <td>1470.000000</td>\n",
       "      <td>...</td>\n",
       "      <td>1470.000000</td>\n",
       "      <td>1470.000000</td>\n",
       "      <td>1470.0</td>\n",
       "      <td>1470.000000</td>\n",
       "      <td>1470.000000</td>\n",
       "      <td>1470.000000</td>\n",
       "      <td>1470.000000</td>\n",
       "      <td>1470.000000</td>\n",
       "      <td>1470.000000</td>\n",
       "      <td>1470.000000</td>\n",
       "    </tr>\n",
       "    <tr>\n",
       "      <th>mean</th>\n",
       "      <td>1024.865306</td>\n",
       "      <td>2.799320</td>\n",
       "      <td>-2.0</td>\n",
       "      <td>0.0</td>\n",
       "      <td>36.923810</td>\n",
       "      <td>0.161224</td>\n",
       "      <td>1.0</td>\n",
       "      <td>0.161224</td>\n",
       "      <td>0.838776</td>\n",
       "      <td>802.485714</td>\n",
       "      <td>...</td>\n",
       "      <td>3.153741</td>\n",
       "      <td>2.712245</td>\n",
       "      <td>80.0</td>\n",
       "      <td>0.793878</td>\n",
       "      <td>11.279592</td>\n",
       "      <td>2.761224</td>\n",
       "      <td>7.008163</td>\n",
       "      <td>4.229252</td>\n",
       "      <td>2.187755</td>\n",
       "      <td>4.123129</td>\n",
       "    </tr>\n",
       "    <tr>\n",
       "      <th>std</th>\n",
       "      <td>602.024335</td>\n",
       "      <td>1.289271</td>\n",
       "      <td>0.0</td>\n",
       "      <td>0.0</td>\n",
       "      <td>9.135373</td>\n",
       "      <td>0.367863</td>\n",
       "      <td>0.0</td>\n",
       "      <td>0.367863</td>\n",
       "      <td>0.367863</td>\n",
       "      <td>403.509100</td>\n",
       "      <td>...</td>\n",
       "      <td>0.360824</td>\n",
       "      <td>1.081209</td>\n",
       "      <td>0.0</td>\n",
       "      <td>0.852077</td>\n",
       "      <td>7.780782</td>\n",
       "      <td>0.706476</td>\n",
       "      <td>6.126525</td>\n",
       "      <td>3.623137</td>\n",
       "      <td>3.222430</td>\n",
       "      <td>3.568136</td>\n",
       "    </tr>\n",
       "    <tr>\n",
       "      <th>min</th>\n",
       "      <td>1.000000</td>\n",
       "      <td>0.000000</td>\n",
       "      <td>-2.0</td>\n",
       "      <td>0.0</td>\n",
       "      <td>18.000000</td>\n",
       "      <td>0.000000</td>\n",
       "      <td>1.0</td>\n",
       "      <td>0.000000</td>\n",
       "      <td>0.000000</td>\n",
       "      <td>102.000000</td>\n",
       "      <td>...</td>\n",
       "      <td>3.000000</td>\n",
       "      <td>1.000000</td>\n",
       "      <td>80.0</td>\n",
       "      <td>0.000000</td>\n",
       "      <td>0.000000</td>\n",
       "      <td>1.000000</td>\n",
       "      <td>0.000000</td>\n",
       "      <td>0.000000</td>\n",
       "      <td>0.000000</td>\n",
       "      <td>0.000000</td>\n",
       "    </tr>\n",
       "    <tr>\n",
       "      <th>25%</th>\n",
       "      <td>491.250000</td>\n",
       "      <td>2.000000</td>\n",
       "      <td>-2.0</td>\n",
       "      <td>0.0</td>\n",
       "      <td>30.000000</td>\n",
       "      <td>0.000000</td>\n",
       "      <td>1.0</td>\n",
       "      <td>0.000000</td>\n",
       "      <td>1.000000</td>\n",
       "      <td>465.000000</td>\n",
       "      <td>...</td>\n",
       "      <td>3.000000</td>\n",
       "      <td>2.000000</td>\n",
       "      <td>80.0</td>\n",
       "      <td>0.000000</td>\n",
       "      <td>6.000000</td>\n",
       "      <td>2.000000</td>\n",
       "      <td>3.000000</td>\n",
       "      <td>2.000000</td>\n",
       "      <td>0.000000</td>\n",
       "      <td>2.000000</td>\n",
       "    </tr>\n",
       "    <tr>\n",
       "      <th>50%</th>\n",
       "      <td>1020.500000</td>\n",
       "      <td>3.000000</td>\n",
       "      <td>-2.0</td>\n",
       "      <td>0.0</td>\n",
       "      <td>36.000000</td>\n",
       "      <td>0.000000</td>\n",
       "      <td>1.0</td>\n",
       "      <td>0.000000</td>\n",
       "      <td>1.000000</td>\n",
       "      <td>802.000000</td>\n",
       "      <td>...</td>\n",
       "      <td>3.000000</td>\n",
       "      <td>3.000000</td>\n",
       "      <td>80.0</td>\n",
       "      <td>1.000000</td>\n",
       "      <td>10.000000</td>\n",
       "      <td>3.000000</td>\n",
       "      <td>5.000000</td>\n",
       "      <td>3.000000</td>\n",
       "      <td>1.000000</td>\n",
       "      <td>3.000000</td>\n",
       "    </tr>\n",
       "    <tr>\n",
       "      <th>75%</th>\n",
       "      <td>1555.750000</td>\n",
       "      <td>3.000000</td>\n",
       "      <td>-2.0</td>\n",
       "      <td>0.0</td>\n",
       "      <td>43.000000</td>\n",
       "      <td>0.000000</td>\n",
       "      <td>1.0</td>\n",
       "      <td>0.000000</td>\n",
       "      <td>1.000000</td>\n",
       "      <td>1157.000000</td>\n",
       "      <td>...</td>\n",
       "      <td>3.000000</td>\n",
       "      <td>4.000000</td>\n",
       "      <td>80.0</td>\n",
       "      <td>1.000000</td>\n",
       "      <td>15.000000</td>\n",
       "      <td>3.000000</td>\n",
       "      <td>9.000000</td>\n",
       "      <td>7.000000</td>\n",
       "      <td>3.000000</td>\n",
       "      <td>7.000000</td>\n",
       "    </tr>\n",
       "    <tr>\n",
       "      <th>max</th>\n",
       "      <td>2068.000000</td>\n",
       "      <td>6.000000</td>\n",
       "      <td>-2.0</td>\n",
       "      <td>0.0</td>\n",
       "      <td>60.000000</td>\n",
       "      <td>1.000000</td>\n",
       "      <td>1.0</td>\n",
       "      <td>1.000000</td>\n",
       "      <td>1.000000</td>\n",
       "      <td>1499.000000</td>\n",
       "      <td>...</td>\n",
       "      <td>4.000000</td>\n",
       "      <td>4.000000</td>\n",
       "      <td>80.0</td>\n",
       "      <td>3.000000</td>\n",
       "      <td>40.000000</td>\n",
       "      <td>4.000000</td>\n",
       "      <td>40.000000</td>\n",
       "      <td>18.000000</td>\n",
       "      <td>15.000000</td>\n",
       "      <td>17.000000</td>\n",
       "    </tr>\n",
       "  </tbody>\n",
       "</table>\n",
       "<p>8 rows × 31 columns</p>\n",
       "</div>"
      ],
      "text/plain": [
       "       Employee Number  Training Times Last Year      -2       0          Age  \\\n",
       "count      1470.000000               1470.000000  1470.0  1470.0  1470.000000   \n",
       "mean       1024.865306                  2.799320    -2.0     0.0    36.923810   \n",
       "std         602.024335                  1.289271     0.0     0.0     9.135373   \n",
       "min           1.000000                  0.000000    -2.0     0.0    18.000000   \n",
       "25%         491.250000                  2.000000    -2.0     0.0    30.000000   \n",
       "50%        1020.500000                  3.000000    -2.0     0.0    36.000000   \n",
       "75%        1555.750000                  3.000000    -2.0     0.0    43.000000   \n",
       "max        2068.000000                  6.000000    -2.0     0.0    60.000000   \n",
       "\n",
       "       CF_attrition count  CF_attrition counts  CF_attrition rate  \\\n",
       "count         1470.000000                237.0        1470.000000   \n",
       "mean             0.161224                  1.0           0.161224   \n",
       "std              0.367863                  0.0           0.367863   \n",
       "min              0.000000                  1.0           0.000000   \n",
       "25%              0.000000                  1.0           0.000000   \n",
       "50%              0.000000                  1.0           0.000000   \n",
       "75%              0.000000                  1.0           0.000000   \n",
       "max              1.000000                  1.0           1.000000   \n",
       "\n",
       "       CF_current Employee   Daily Rate  ...  Performance Rating  \\\n",
       "count          1470.000000  1470.000000  ...         1470.000000   \n",
       "mean              0.838776   802.485714  ...            3.153741   \n",
       "std               0.367863   403.509100  ...            0.360824   \n",
       "min               0.000000   102.000000  ...            3.000000   \n",
       "25%               1.000000   465.000000  ...            3.000000   \n",
       "50%               1.000000   802.000000  ...            3.000000   \n",
       "75%               1.000000  1157.000000  ...            3.000000   \n",
       "max               1.000000  1499.000000  ...            4.000000   \n",
       "\n",
       "       Relationship Satisfaction  Standard Hours  Stock Option Level  \\\n",
       "count                1470.000000          1470.0         1470.000000   \n",
       "mean                    2.712245            80.0            0.793878   \n",
       "std                     1.081209             0.0            0.852077   \n",
       "min                     1.000000            80.0            0.000000   \n",
       "25%                     2.000000            80.0            0.000000   \n",
       "50%                     3.000000            80.0            1.000000   \n",
       "75%                     4.000000            80.0            1.000000   \n",
       "max                     4.000000            80.0            3.000000   \n",
       "\n",
       "       Total Working Years  Work Life Balance  Years At Company  \\\n",
       "count          1470.000000        1470.000000       1470.000000   \n",
       "mean             11.279592           2.761224          7.008163   \n",
       "std               7.780782           0.706476          6.126525   \n",
       "min               0.000000           1.000000          0.000000   \n",
       "25%               6.000000           2.000000          3.000000   \n",
       "50%              10.000000           3.000000          5.000000   \n",
       "75%              15.000000           3.000000          9.000000   \n",
       "max              40.000000           4.000000         40.000000   \n",
       "\n",
       "       Years In Current Role  Years Since Last Promotion  \\\n",
       "count            1470.000000                 1470.000000   \n",
       "mean                4.229252                    2.187755   \n",
       "std                 3.623137                    3.222430   \n",
       "min                 0.000000                    0.000000   \n",
       "25%                 2.000000                    0.000000   \n",
       "50%                 3.000000                    1.000000   \n",
       "75%                 7.000000                    3.000000   \n",
       "max                18.000000                   15.000000   \n",
       "\n",
       "       Years With Curr Manager  \n",
       "count              1470.000000  \n",
       "mean                  4.123129  \n",
       "std                   3.568136  \n",
       "min                   0.000000  \n",
       "25%                   2.000000  \n",
       "50%                   3.000000  \n",
       "75%                   7.000000  \n",
       "max                  17.000000  \n",
       "\n",
       "[8 rows x 31 columns]"
      ]
     },
     "execution_count": 31,
     "metadata": {},
     "output_type": "execute_result"
    }
   ],
   "source": [
    "df.describe()"
   ]
  },
  {
   "cell_type": "markdown",
   "id": "3c95da20-7580-4956-a5c2-f3f474654c9a",
   "metadata": {},
   "source": [
    "# Counting Total Employees"
   ]
  },
  {
   "cell_type": "code",
   "execution_count": 43,
   "id": "a84ef84a-3942-4135-a574-063bd12cfded",
   "metadata": {},
   "outputs": [
    {
     "name": "stdout",
     "output_type": "stream",
     "text": [
      "Total Employee:1470\n"
     ]
    }
   ],
   "source": [
    "Total_Employee=df['Employee Number'].count()\n",
    "print(f\"Total Employee:{Total_Employee}\")"
   ]
  },
  {
   "cell_type": "markdown",
   "id": "703679b9-2602-42e2-8fa6-94a7fae2b6e9",
   "metadata": {},
   "source": [
    "# Average Age"
   ]
  },
  {
   "cell_type": "code",
   "execution_count": 51,
   "id": "cccd69f6-a60e-4f6d-a155-2da266a1c603",
   "metadata": {},
   "outputs": [
    {
     "name": "stdout",
     "output_type": "stream",
     "text": [
      "Average Age is 36.923809523809524\n"
     ]
    }
   ],
   "source": [
    "Avg_age=df['Age'].mean()\n",
    "print(f\"Average Age is {Avg_age}\")"
   ]
  },
  {
   "cell_type": "markdown",
   "id": "8c9540b5-e40b-4bae-9097-68b6ae792dad",
   "metadata": {},
   "source": [
    "# Made new column by name Attrition_Num and replace yes,No with 1 & 0"
   ]
  },
  {
   "cell_type": "code",
   "execution_count": 60,
   "id": "e305ef6e-2b22-4539-bd18-f875e594bbc6",
   "metadata": {},
   "outputs": [
    {
     "name": "stderr",
     "output_type": "stream",
     "text": [
      "C:\\Users\\joshi\\AppData\\Local\\Temp\\ipykernel_23796\\218081123.py:1: FutureWarning: Downcasting behavior in `replace` is deprecated and will be removed in a future version. To retain the old behavior, explicitly call `result.infer_objects(copy=False)`. To opt-in to the future behavior, set `pd.set_option('future.no_silent_downcasting', True)`\n",
      "  df['Attrition_Num']=df['Attrition'].replace({'Yes':1,'No':0})\n"
     ]
    },
    {
     "data": {
      "text/plain": [
       "0    1\n",
       "1    0\n",
       "2    1\n",
       "3    0\n",
       "4    0\n",
       "Name: Attrition_Num, dtype: int64"
      ]
     },
     "execution_count": 60,
     "metadata": {},
     "output_type": "execute_result"
    }
   ],
   "source": [
    "df['Attrition_Num']=df['Attrition'].replace({'Yes':1,'No':0})\n",
    "df['Attrition_Num'].head()"
   ]
  },
  {
   "cell_type": "code",
   "execution_count": 62,
   "id": "8a74af99-8c36-42c7-95bf-6b986b68f12e",
   "metadata": {},
   "outputs": [
    {
     "data": {
      "text/html": [
       "<div>\n",
       "<style scoped>\n",
       "    .dataframe tbody tr th:only-of-type {\n",
       "        vertical-align: middle;\n",
       "    }\n",
       "\n",
       "    .dataframe tbody tr th {\n",
       "        vertical-align: top;\n",
       "    }\n",
       "\n",
       "    .dataframe thead th {\n",
       "        text-align: right;\n",
       "    }\n",
       "</style>\n",
       "<table border=\"1\" class=\"dataframe\">\n",
       "  <thead>\n",
       "    <tr style=\"text-align: right;\">\n",
       "      <th></th>\n",
       "      <th>Attrition</th>\n",
       "      <th>Business Travel</th>\n",
       "      <th>CF_age band</th>\n",
       "      <th>CF_attrition label</th>\n",
       "      <th>Department</th>\n",
       "      <th>Education Field</th>\n",
       "      <th>emp no</th>\n",
       "      <th>Employee Number</th>\n",
       "      <th>Gender</th>\n",
       "      <th>Job Role</th>\n",
       "      <th>...</th>\n",
       "      <th>Relationship Satisfaction</th>\n",
       "      <th>Standard Hours</th>\n",
       "      <th>Stock Option Level</th>\n",
       "      <th>Total Working Years</th>\n",
       "      <th>Work Life Balance</th>\n",
       "      <th>Years At Company</th>\n",
       "      <th>Years In Current Role</th>\n",
       "      <th>Years Since Last Promotion</th>\n",
       "      <th>Years With Curr Manager</th>\n",
       "      <th>Attrition_Num</th>\n",
       "    </tr>\n",
       "  </thead>\n",
       "  <tbody>\n",
       "    <tr>\n",
       "      <th>0</th>\n",
       "      <td>Yes</td>\n",
       "      <td>Travel_Rarely</td>\n",
       "      <td>35 - 44</td>\n",
       "      <td>Ex-Employees</td>\n",
       "      <td>Sales</td>\n",
       "      <td>Life Sciences</td>\n",
       "      <td>STAFF-1</td>\n",
       "      <td>1</td>\n",
       "      <td>Female</td>\n",
       "      <td>Sales Executive</td>\n",
       "      <td>...</td>\n",
       "      <td>1</td>\n",
       "      <td>80</td>\n",
       "      <td>0</td>\n",
       "      <td>8</td>\n",
       "      <td>1</td>\n",
       "      <td>6</td>\n",
       "      <td>4</td>\n",
       "      <td>0</td>\n",
       "      <td>5</td>\n",
       "      <td>1</td>\n",
       "    </tr>\n",
       "  </tbody>\n",
       "</table>\n",
       "<p>1 rows × 45 columns</p>\n",
       "</div>"
      ],
      "text/plain": [
       "  Attrition Business Travel CF_age band CF_attrition label Department  \\\n",
       "0       Yes   Travel_Rarely     35 - 44       Ex-Employees      Sales   \n",
       "\n",
       "  Education Field   emp no  Employee Number  Gender         Job Role  ...  \\\n",
       "0   Life Sciences  STAFF-1                1  Female  Sales Executive  ...   \n",
       "\n",
       "  Relationship Satisfaction Standard Hours Stock Option Level  \\\n",
       "0                         1             80                  0   \n",
       "\n",
       "   Total Working Years  Work Life Balance  Years At Company  \\\n",
       "0                    8                  1                 6   \n",
       "\n",
       "   Years In Current Role  Years Since Last Promotion  Years With Curr Manager  \\\n",
       "0                      4                           0                        5   \n",
       "\n",
       "   Attrition_Num  \n",
       "0              1  \n",
       "\n",
       "[1 rows x 45 columns]"
      ]
     },
     "execution_count": 62,
     "metadata": {},
     "output_type": "execute_result"
    }
   ],
   "source": [
    "df.head(1)"
   ]
  },
  {
   "cell_type": "code",
   "execution_count": 80,
   "id": "3d0edd9e-da7a-473e-ba32-a5fd416679c8",
   "metadata": {},
   "outputs": [
    {
     "name": "stdout",
     "output_type": "stream",
     "text": [
      "Attrition :237\n"
     ]
    }
   ],
   "source": [
    "attrition_Emp=df[df['Attrition_Num']==1]['Attrition_Num'].count()\n",
    "print(f\"Attrition :{attrition_Emp}\")"
   ]
  },
  {
   "cell_type": "markdown",
   "id": "e1f5228c-54bb-454d-8153-7929dc74ea35",
   "metadata": {},
   "source": [
    "# Active Employee"
   ]
  },
  {
   "cell_type": "code",
   "execution_count": 85,
   "id": "7036d70c-7b4d-4dc5-8bff-1751a674ed83",
   "metadata": {},
   "outputs": [
    {
     "name": "stdout",
     "output_type": "stream",
     "text": [
      "Active Employee :1233\n"
     ]
    }
   ],
   "source": [
    "active_emp=df[df['Attrition_Num']==0]['Attrition_Num'].count()\n",
    "print(f\"Active Employee :{active_emp}\")"
   ]
  },
  {
   "cell_type": "markdown",
   "id": "24ae6d8e-276b-4b0c-88ea-00ad98330ca5",
   "metadata": {},
   "source": [
    "# Attrition Rate "
   ]
  },
  {
   "cell_type": "code",
   "execution_count": 96,
   "id": "6f30eae4-7a1f-4e70-8472-2e73fb457e00",
   "metadata": {},
   "outputs": [
    {
     "name": "stdout",
     "output_type": "stream",
     "text": [
      "Attrition Rate:16.122448979591837\n"
     ]
    }
   ],
   "source": [
    "attrition_rate=(attrition_Emp/Total_Employee)*100\n",
    "print(f\"Attrition Rate:{attrition_rate}\")"
   ]
  },
  {
   "cell_type": "markdown",
   "id": "6b2ce935-b758-4afc-a846-222294d6ce30",
   "metadata": {},
   "source": [
    "# Average Job Satisfaction Rating"
   ]
  },
  {
   "cell_type": "code",
   "execution_count": 99,
   "id": "419bfc7b-a38c-40a0-82ee-81cd8af1be78",
   "metadata": {},
   "outputs": [
    {
     "name": "stdout",
     "output_type": "stream",
     "text": [
      "Average Job Satisfaction Rating:2.626530612244898\n"
     ]
    }
   ],
   "source": [
    "job_satisfaction=df['Job Satisfaction'].mean()\n",
    "print(f\"Average Job Satisfaction Rating:{job_satisfaction}\")"
   ]
  },
  {
   "cell_type": "markdown",
   "id": "0812e5f5-c130-41c8-90e1-d7014e2e2039",
   "metadata": {},
   "source": [
    "# Total Employee By Gender"
   ]
  },
  {
   "cell_type": "code",
   "execution_count": 162,
   "id": "a6d49275-5d35-403a-b6c1-42d07bb3f633",
   "metadata": {},
   "outputs": [
    {
     "data": {
      "image/png": "[encoded data removed]",
      "text/plain": [
       "<Figure size 1000x600 with 1 Axes>"
      ]
     },
     "metadata": {},
     "output_type": "display_data"
    }
   ],
   "source": [
    "plt.figure(figsize=(10,6))\n",
    "df.groupby('Gender')['Employee Number'].sum().plot(kind='pie',autopct='%1.1f%%')\n",
    "plt.title(\"Total Employee By Gender\")\n",
    "plt.ylabel('')\n",
    "plt.tight_layout()\n",
    "plt.show()"
   ]
  },
  {
   "cell_type": "markdown",
   "id": "67f2272d-b73e-4325-940f-1f150cb099cc",
   "metadata": {},
   "source": [
    "# Education wise Attrition"
   ]
  },
  {
   "cell_type": "code",
   "execution_count": 153,
   "id": "4568a175-9145-4b7e-921e-23ee6e8b9f6d",
   "metadata": {},
   "outputs": [],
   "source": [
    "education=df.groupby('Education Field')['Attrition_Num'].sum().sort_values(ascending=True)"
   ]
  },
  {
   "cell_type": "code",
   "execution_count": 159,
   "id": "272dc7e2-3521-47b2-a06d-527bfcc9f51c",
   "metadata": {},
   "outputs": [
    {
     "data": {
      "image/png": "[encoded data removed]",
      "text/plain": [
       "<Figure size 1000x600 with 1 Axes>"
      ]
     },
     "metadata": {},
     "output_type": "display_data"
    }
   ],
   "source": [
    "plt.figure(figsize=(10,6))\n",
    "education.plot(kind='barh')\n",
    "plt.title(\"Education wise Attrition\")\n",
    "plt.ylabel(\"\")\n",
    "plt.tight_layout()\n",
    "plt.show()"
   ]
  },
  {
   "cell_type": "markdown",
   "id": "0d3505e9-249c-4fe9-b0c2-ddd8c77ca979",
   "metadata": {},
   "source": [
    "# Attrition By Job Role"
   ]
  },
  {
   "cell_type": "code",
   "execution_count": 183,
   "id": "bb0706e0-e32d-431b-964b-bc3d5068db58",
   "metadata": {},
   "outputs": [],
   "source": [
    "attr_job_role=df.groupby('Job Role')['Attrition_Num'].sum().reset_index().sort_values(by='Attrition_Num',ascending=False)"
   ]
  },
  {
   "cell_type": "code",
   "execution_count": 197,
   "id": "62fc123b-dcca-4dca-b86a-b7f515083fdc",
   "metadata": {},
   "outputs": [
    {
     "data": {
      "image/png": "[encoded data removed]",
      "text/plain": [
       "<Figure size 1000x600 with 1 Axes>"
      ]
     },
     "metadata": {},
     "output_type": "display_data"
    }
   ],
   "source": [
    "plt.figure(figsize=(10,6))\n",
    "sns.barplot(x='Job Role',y='Attrition_Num',data=attr_job_role,hue='Job Role',palette='coolwarm')\n",
    "plt.title(\"Attrition By Job Role\")\n",
    "plt.xticks(rotation=45)\n",
    "plt.xlabel(\"\")\n",
    "plt.tight_layout()\n",
    "plt.show()"
   ]
  },
  {
   "cell_type": "markdown",
   "id": "ef1ccfe7-29a9-4d70-b4ff-1cf005be8c5d",
   "metadata": {},
   "source": [
    "# Department Wise Attrition"
   ]
  },
  {
   "cell_type": "code",
   "execution_count": 208,
   "id": "26b633d1-abf6-4d33-822a-5517f40c56d9",
   "metadata": {},
   "outputs": [
    {
     "data": {
      "image/png": "[encoded data removed]",
      "text/plain": [
       "<Figure size 1000x600 with 1 Axes>"
      ]
     },
     "metadata": {},
     "output_type": "display_data"
    }
   ],
   "source": [
    "plt.figure(figsize=(10,6))\n",
    "df.groupby('Department')['Attrition_Num'].sum().plot(kind='pie',autopct='%1.1f%%')\n",
    "plt.title(\"Department Wise Attrition\")\n",
    "plt.tight_layout()\n",
    "plt.ylabel(\"\")\n",
    "plt.show()"
   ]
  },
  {
   "cell_type": "markdown",
   "id": "87832f1c-4c26-4992-972f-2db4c5dfe35d",
   "metadata": {},
   "source": [
    "# Age Wise Attrition"
   ]
  },
  {
   "cell_type": "code",
   "execution_count": 225,
   "id": "e1938bc0-c471-4766-99b0-c3c1da3708ec",
   "metadata": {},
   "outputs": [],
   "source": [
    "age_attrition=df.groupby('CF_age band')['Attrition_Num'].sum().reset_index()"
   ]
  },
  {
   "cell_type": "code",
   "execution_count": 235,
   "id": "cb1cb6a6-4e0c-492e-9874-7c63f4a28909",
   "metadata": {},
   "outputs": [
    {
     "data": {
      "image/png": "[encoded data removed]",
      "text/plain": [
       "<Figure size 1000x600 with 1 Axes>"
      ]
     },
     "metadata": {},
     "output_type": "display_data"
    }
   ],
   "source": [
    "plt.figure(figsize=(10,6))\n",
    "sns.barplot(x='CF_age band',y='Attrition_Num',data=age_attrition)\n",
    "plt.title(\"Age Wise Attrition\")\n",
    "plt.xlabel(\"Age Group\")\n",
    "plt.ylabel(\"Attrition\")\n",
    "plt.tight_layout()\n",
    "plt.show()"
   ]
  },
  {
   "cell_type": "markdown",
   "id": "9898c058-e97d-46d6-90a4-6b1888d1d9c8",
   "metadata": {},
   "source": [
    "# Attrition by Marital Status"
   ]
  },
  {
   "cell_type": "code",
   "execution_count": 240,
   "id": "b8b872c7-ed16-4b7a-af6d-7a14def8c827",
   "metadata": {},
   "outputs": [],
   "source": [
    "marital_attrition=df.groupby('Marital Status')['Attrition_Num'].sum().sort_values(ascending=False)"
   ]
  },
  {
   "cell_type": "code",
   "execution_count": 253,
   "id": "2855bcdf-382e-406b-b757-b90866547384",
   "metadata": {},
   "outputs": [
    {
     "data": {
      "image/png": "[encoded data removed]",
      "text/plain": [
       "<Figure size 1000x600 with 1 Axes>"
      ]
     },
     "metadata": {},
     "output_type": "display_data"
    }
   ],
   "source": [
    "plt.figure(figsize=(10,6))\n",
    "bars=plt.barh(marital_attrition.index,marital_attrition.values,color='skyblue')\n",
    "plt.gca().invert_yaxis()\n",
    "plt.tight_layout()\n",
    "plt.xlabel(\"Number of Attrition\")\n",
    "plt.title(\"Attrition by Marital Status\")\n",
    "plt.show()"
   ]
  },
  {
   "cell_type": "code",
   "execution_count": null,
   "id": "d5d7ea97-3de4-4bb6-b03f-642bb50b77b8",
   "metadata": {},
   "outputs": [],
   "source": [
    "1. What is the total number of employees in the organization?\n",
    "-->The dataset consists of 1470 unique employees.\n",
    "\n",
    "2.  What is the average age of employees?\n",
    "-->The average age is approximately 36.9 years\n",
    "\n",
    "3. How many employees have left the company?\n",
    "-->A total of 237 employees have left, suggesting notable turnover.\n",
    "\n",
    "4. What is the overall attrition rate?\n",
    "-->The attrition rate is 16.12%, which can be considered moderate depending on industry benchmarks.\n",
    "\n",
    "5. Which job role has the highest attrition?\n",
    "-->The job role with the highest attrition is Laboratory Technician, indicating potential dissatisfaction or burnout in that role.\n",
    "\n",
    "6. Which marital status group has the most attrition?\n",
    "-->Employees who are Single show the highest attrition, possibly reflecting differing life or work priorities.\n",
    "\n",
    "7. Which age group has the highest attrition?\n",
    "-->The age group 25 - 34 shows the highest attrition, often aligned with early-career transitions or job changes."
   ]
  }
 ],
 "metadata": {
  "kernelspec": {
   "display_name": "Python [conda env:base] *",
   "language": "python",
   "name": "conda-base-py"
  },
  "language_info": {
   "codemirror_mode": {
    "name": "ipython",
    "version": 3
   },
   "file_extension": ".py",
   "mimetype": "text/x-python",
   "name": "python",
   "nbconvert_exporter": "python",
   "pygments_lexer": "ipython3",
   "version": "3.12.7"
  }
 },
 "nbformat": 4,
 "nbformat_minor": 5
}
